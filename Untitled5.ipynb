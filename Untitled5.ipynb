{
  "nbformat": 4,
  "nbformat_minor": 0,
  "metadata": {
    "colab": {
      "provenance": [],
      "authorship_tag": "ABX9TyNwmYAvYKqM2AAduKYin7UR",
      "include_colab_link": true
    },
    "kernelspec": {
      "name": "python3",
      "display_name": "Python 3"
    },
    "language_info": {
      "name": "python"
    }
  },
  "cells": [
    {
      "cell_type": "markdown",
      "metadata": {
        "id": "view-in-github",
        "colab_type": "text"
      },
      "source": [
        "<a href=\"https://colab.research.google.com/github/felipebpessoa/2024.1-Algoritmos-e-Estruturas-de-Dados-MARCUSPESSOA/blob/main/Untitled5.ipynb\" target=\"_parent\"><img src=\"https://colab.research.google.com/assets/colab-badge.svg\" alt=\"Open In Colab\"/></a>"
      ]
    },
    {
      "cell_type": "markdown",
      "source": [
        "1- Escreva um programa que imprima \"Olá, Mundo!\" na tela."
      ],
      "metadata": {
        "id": "lqethQy89oI3"
      }
    },
    {
      "cell_type": "code",
      "execution_count": 1,
      "metadata": {
        "colab": {
          "base_uri": "https://localhost:8080/"
        },
        "id": "c_0mdMQu8ihS",
        "outputId": "172a7206-c6de-42ab-b312-c8d4a21923d4"
      },
      "outputs": [
        {
          "output_type": "stream",
          "name": "stdout",
          "text": [
            "Olá, Mundo!\n"
          ]
        }
      ],
      "source": [
        "#Imprime \"Olá, Mundo!\" na tela\n",
        "print(\"Olá, Mundo!\")"
      ]
    },
    {
      "cell_type": "markdown",
      "source": [
        "2- Crie um programa que leia três notas de um aluno e calcule a média final."
      ],
      "metadata": {
        "id": "mzRi-4j39wbq"
      }
    },
    {
      "cell_type": "code",
      "source": [
        "print (\"Calculadora de média final\")\n",
        "#Imprime \"Calculadora de média final\"\n",
        "n1 = float (input (\"Digite a nota 1 \"))\n",
        "n2 = float (input (\"Digite a nota 2 \"))\n",
        "n3 = float (input (\"Digite a nota 3 \"))\n",
        "\n",
        "#calculo de média\n",
        "media = (n1 +  n2 + n3) / 3\n",
        "\n",
        "#impressao da media\n",
        "print (f\"A média final das notas é: {media:.2f}\")"
      ],
      "metadata": {
        "colab": {
          "base_uri": "https://localhost:8080/"
        },
        "id": "f-lJkIbs99S8",
        "outputId": "1eefa409-0201-4a3e-970a-1d604b2f6afa"
      },
      "execution_count": 2,
      "outputs": [
        {
          "output_type": "stream",
          "name": "stdout",
          "text": [
            "Calculadora de média final\n",
            "Digite a nota 1 7\n",
            "Digite a nota 2 8\n",
            "Digite a nota 3 6\n",
            "A média final das notas é: 7.00\n"
          ]
        }
      ]
    },
    {
      "cell_type": "markdown",
      "source": [
        "3- Escreva um programa que calcule a média de notas, permitindo a entrada repetida de notas até que o usuário indique que não deseja mais inserir."
      ],
      "metadata": {
        "id": "wrM473h6-LKu"
      }
    },
    {
      "cell_type": "code",
      "source": [
        "print (\"Calculadora de média de notas\")\n",
        "notas = []\n",
        "continuar = 'sim'\n",
        "\n",
        "while continuar == 'sim':\n",
        "    nota = float(input(\"Digite uma nota: \"))\n",
        "    notas.append(nota)\n",
        "\n",
        "    continuar = input(\"Deseja inserir outra nota? (sim ou não): \")\n",
        "\n",
        "    if continuar != 'sim' and continuar != 'não':\n",
        "        print(\"Opção inválida, por favor digite 'sim' para sim ou 'não' para não.\")\n",
        "        continuar = input(\"Deseja inserir outra nota? (sim ou não): \")\n",
        "\n",
        "if len(notas) > 0:\n",
        "    media = sum(notas) / len(notas)\n",
        "    print(f\"A média das notas é: {media:.2f}\")\n",
        "else:\n",
        "    print(\"Nenhuma nota foi inserida.\")\n"
      ],
      "metadata": {
        "colab": {
          "base_uri": "https://localhost:8080/"
        },
        "id": "_jgYZFKf-M_S",
        "outputId": "fe46170a-f5f7-4d8a-e491-281cd54e9809"
      },
      "execution_count": 3,
      "outputs": [
        {
          "output_type": "stream",
          "name": "stdout",
          "text": [
            "Calculadora de média de notas\n",
            "Digite uma nota: 9\n",
            "Deseja inserir outra nota? (sim ou não): sim\n",
            "Digite uma nota: 3\n",
            "Deseja inserir outra nota? (sim ou não): não\n",
            "A média das notas é: 6.00\n"
          ]
        }
      ]
    },
    {
      "cell_type": "markdown",
      "source": [
        "4- Crie um programa que leia três números e determine o maior deles."
      ],
      "metadata": {
        "id": "yR5K3QqF-Ygk"
      }
    },
    {
      "cell_type": "code",
      "source": [
        "#'a','b' e 'c' númericas imprima a maior delas\n",
        "a=7353\n",
        "b=8373\n",
        "c=8769\n",
        "\n",
        "if a < b:\n",
        "  if b < c:\n",
        "    print(c)\n",
        "  else:\n",
        "    print(b)\n",
        "else:\n",
        "  if a < c:\n",
        "    print(c)\n",
        "  else:\n",
        "    print(a)"
      ],
      "metadata": {
        "colab": {
          "base_uri": "https://localhost:8080/"
        },
        "id": "s2NR7aYn-djN",
        "outputId": "7b8111cd-05b4-4b7b-e415-95f045c8003e"
      },
      "execution_count": 5,
      "outputs": [
        {
          "output_type": "stream",
          "name": "stdout",
          "text": [
            "8769\n"
          ]
        }
      ]
    },
    {
      "cell_type": "markdown",
      "source": [
        "5- Desenvolva um programa que monitore a qualidade da água de um reservatório usando um loop while."
      ],
      "metadata": {
        "id": "eV3Nxrhg-iw5"
      }
    },
    {
      "cell_type": "code",
      "source": [
        "#Programa de monitoramento da qualidade da água de um reservatório\n",
        "print(\"Insira o nível de poluição para verificar se está dentro do padrão aceito.\")\n",
        "poluição = True\n",
        "#poluição = 1 #outro exemplo\n",
        "\n",
        "while poluição: #loop infinito // infinete loop\n",
        "  nivel_poluição = float(input(\"Digite o nível de poluição em mg/L: \"))\n",
        "  #verificando se o  0.2 > nivel_poluição < 2\n",
        "  if nivel_poluição < 0.2:\n",
        "    print(\"Atenção: O nível de poluição está aceitável\")\n",
        "  elif nivel_poluição > 2.0:\n",
        "    print(\"Atenção: o nível de cloro está acima do padrão aceitável.\")\n",
        "  else:\n",
        "    print(\"O nível do cloro está dentro dos padrões aceitáveis.\")\n",
        "poluição = False"
      ],
      "metadata": {
        "colab": {
          "base_uri": "https://localhost:8080/",
          "height": 478
        },
        "id": "fyti5AJR_HQG",
        "outputId": "71b9c98d-2b63-434c-f2d8-45d7005d8665"
      },
      "execution_count": 9,
      "outputs": [
        {
          "output_type": "stream",
          "name": "stdout",
          "text": [
            "Insira o nível de poluição para verificar se está dentro do padrão aceito.\n",
            "Digite o nível de poluição em mg/L: 6\n",
            "Atenção: o nível de cloro está acima do padrão aceitável.\n",
            "Digite o nível de poluição em mg/L: 2\n",
            "O nível do cloro está dentro dos padrões aceitáveis.\n",
            "Digite o nível de poluição em mg/L: 100\n",
            "Atenção: o nível de cloro está acima do padrão aceitável.\n"
          ]
        },
        {
          "output_type": "error",
          "ename": "KeyboardInterrupt",
          "evalue": "Interrupted by user",
          "traceback": [
            "\u001b[0;31m---------------------------------------------------------------------------\u001b[0m",
            "\u001b[0;31mKeyboardInterrupt\u001b[0m                         Traceback (most recent call last)",
            "\u001b[0;32m<ipython-input-9-d4d8b4252de0>\u001b[0m in \u001b[0;36m<cell line: 6>\u001b[0;34m()\u001b[0m\n\u001b[1;32m      5\u001b[0m \u001b[0;34m\u001b[0m\u001b[0m\n\u001b[1;32m      6\u001b[0m \u001b[0;32mwhile\u001b[0m \u001b[0mpoluição\u001b[0m\u001b[0;34m:\u001b[0m \u001b[0;31m#loop infinito // infinete loop\u001b[0m\u001b[0;34m\u001b[0m\u001b[0;34m\u001b[0m\u001b[0m\n\u001b[0;32m----> 7\u001b[0;31m   \u001b[0mnivel_poluição\u001b[0m \u001b[0;34m=\u001b[0m \u001b[0mfloat\u001b[0m\u001b[0;34m(\u001b[0m\u001b[0minput\u001b[0m\u001b[0;34m(\u001b[0m\u001b[0;34m\"Digite o nível de poluição em mg/L: \"\u001b[0m\u001b[0;34m)\u001b[0m\u001b[0;34m)\u001b[0m\u001b[0;34m\u001b[0m\u001b[0;34m\u001b[0m\u001b[0m\n\u001b[0m\u001b[1;32m      8\u001b[0m   \u001b[0;31m#verificando se o  0.2 > nivel_poluição < 2\u001b[0m\u001b[0;34m\u001b[0m\u001b[0;34m\u001b[0m\u001b[0m\n\u001b[1;32m      9\u001b[0m   \u001b[0;32mif\u001b[0m \u001b[0mnivel_poluição\u001b[0m \u001b[0;34m<\u001b[0m \u001b[0;36m0.2\u001b[0m\u001b[0;34m:\u001b[0m\u001b[0;34m\u001b[0m\u001b[0;34m\u001b[0m\u001b[0m\n",
            "\u001b[0;32m/usr/local/lib/python3.10/dist-packages/ipykernel/kernelbase.py\u001b[0m in \u001b[0;36mraw_input\u001b[0;34m(self, prompt)\u001b[0m\n\u001b[1;32m    849\u001b[0m                 \u001b[0;34m\"raw_input was called, but this frontend does not support input requests.\"\u001b[0m\u001b[0;34m\u001b[0m\u001b[0;34m\u001b[0m\u001b[0m\n\u001b[1;32m    850\u001b[0m             )\n\u001b[0;32m--> 851\u001b[0;31m         return self._input_request(str(prompt),\n\u001b[0m\u001b[1;32m    852\u001b[0m             \u001b[0mself\u001b[0m\u001b[0;34m.\u001b[0m\u001b[0m_parent_ident\u001b[0m\u001b[0;34m,\u001b[0m\u001b[0;34m\u001b[0m\u001b[0;34m\u001b[0m\u001b[0m\n\u001b[1;32m    853\u001b[0m             \u001b[0mself\u001b[0m\u001b[0;34m.\u001b[0m\u001b[0m_parent_header\u001b[0m\u001b[0;34m,\u001b[0m\u001b[0;34m\u001b[0m\u001b[0;34m\u001b[0m\u001b[0m\n",
            "\u001b[0;32m/usr/local/lib/python3.10/dist-packages/ipykernel/kernelbase.py\u001b[0m in \u001b[0;36m_input_request\u001b[0;34m(self, prompt, ident, parent, password)\u001b[0m\n\u001b[1;32m    893\u001b[0m             \u001b[0;32mexcept\u001b[0m \u001b[0mKeyboardInterrupt\u001b[0m\u001b[0;34m:\u001b[0m\u001b[0;34m\u001b[0m\u001b[0;34m\u001b[0m\u001b[0m\n\u001b[1;32m    894\u001b[0m                 \u001b[0;31m# re-raise KeyboardInterrupt, to truncate traceback\u001b[0m\u001b[0;34m\u001b[0m\u001b[0;34m\u001b[0m\u001b[0m\n\u001b[0;32m--> 895\u001b[0;31m                 \u001b[0;32mraise\u001b[0m \u001b[0mKeyboardInterrupt\u001b[0m\u001b[0;34m(\u001b[0m\u001b[0;34m\"Interrupted by user\"\u001b[0m\u001b[0;34m)\u001b[0m \u001b[0;32mfrom\u001b[0m \u001b[0;32mNone\u001b[0m\u001b[0;34m\u001b[0m\u001b[0;34m\u001b[0m\u001b[0m\n\u001b[0m\u001b[1;32m    896\u001b[0m             \u001b[0;32mexcept\u001b[0m \u001b[0mException\u001b[0m \u001b[0;32mas\u001b[0m \u001b[0me\u001b[0m\u001b[0;34m:\u001b[0m\u001b[0;34m\u001b[0m\u001b[0;34m\u001b[0m\u001b[0m\n\u001b[1;32m    897\u001b[0m                 \u001b[0mself\u001b[0m\u001b[0;34m.\u001b[0m\u001b[0mlog\u001b[0m\u001b[0;34m.\u001b[0m\u001b[0mwarning\u001b[0m\u001b[0;34m(\u001b[0m\u001b[0;34m\"Invalid Message:\"\u001b[0m\u001b[0;34m,\u001b[0m \u001b[0mexc_info\u001b[0m\u001b[0;34m=\u001b[0m\u001b[0;32mTrue\u001b[0m\u001b[0;34m)\u001b[0m\u001b[0;34m\u001b[0m\u001b[0;34m\u001b[0m\u001b[0m\n",
            "\u001b[0;31mKeyboardInterrupt\u001b[0m: Interrupted by user"
          ]
        }
      ]
    },
    {
      "cell_type": "markdown",
      "source": [
        "6- Implemente um programa que utilize um loop while para calcular a soma dos números de 1 a 100."
      ],
      "metadata": {
        "id": "ZukKnngd_CJN"
      }
    },
    {
      "cell_type": "code",
      "source": [
        "# variáveis\n",
        "numero = 1\n",
        "soma = 0\n",
        "\n",
        "# Calculando a soma dos números de 1 a 100\n",
        "while numero <= 100:\n",
        "    soma += numero\n",
        "    numero += 1\n",
        "\n",
        "# Exibindo o resultado\n",
        "print(f\"A soma dos números de 1 a 100 é: {soma}\")"
      ],
      "metadata": {
        "colab": {
          "base_uri": "https://localhost:8080/"
        },
        "id": "xWTDG4jX_R1S",
        "outputId": "6271ae2d-e87a-4c88-eccb-9a294520ee8d"
      },
      "execution_count": 10,
      "outputs": [
        {
          "output_type": "stream",
          "name": "stdout",
          "text": [
            "A soma dos números de 1 a 100 é: 5050\n"
          ]
        }
      ]
    },
    {
      "cell_type": "markdown",
      "source": [
        "7- Escreva um programa que imprima todos os números ímpares de 1 a 50 usando um loop for."
      ],
      "metadata": {
        "id": "vxd7FcMo_aaD"
      }
    },
    {
      "cell_type": "code",
      "source": [
        "# Utilizando um loop for para imprimir números ímpares de 1 a 50\n",
        "for num in range(1, 51, 2):\n",
        "    print(num)"
      ],
      "metadata": {
        "colab": {
          "base_uri": "https://localhost:8080/"
        },
        "id": "V8EviFnr_eht",
        "outputId": "97781209-e9dc-4ebc-dd8e-ae0893dfa311"
      },
      "execution_count": 11,
      "outputs": [
        {
          "output_type": "stream",
          "name": "stdout",
          "text": [
            "1\n",
            "3\n",
            "5\n",
            "7\n",
            "9\n",
            "11\n",
            "13\n",
            "15\n",
            "17\n",
            "19\n",
            "21\n",
            "23\n",
            "25\n",
            "27\n",
            "29\n",
            "31\n",
            "33\n",
            "35\n",
            "37\n",
            "39\n",
            "41\n",
            "43\n",
            "45\n",
            "47\n",
            "49\n"
          ]
        }
      ]
    },
    {
      "cell_type": "markdown",
      "source": [
        "8- Desenvolva um programa que utilize os objetos built-in do Python para realizar operações com listas e dicionários."
      ],
      "metadata": {
        "id": "6eG1Rj2m_oEr"
      }
    },
    {
      "cell_type": "code",
      "source": [
        "minha_lista = [1, 2, 3, 4, 5]\n",
        "\n",
        "# Tamanho da lista\n",
        "tamanho_da_lista = len(minha_lista)\n",
        "print(\"Tamanho da lista:\", tamanho_da_lista)\n",
        "\n",
        "# Tipo de dado da lista\n",
        "tipo_da_lista = type(minha_lista)\n",
        "print(\"Tipo de dado da lista:\", tipo_da_lista)\n",
        "\n",
        "# Métodos disponíveis para a lista\n",
        "metodos_da_lista = dir(minha_lista)\n",
        "print(\"Métodos disponíveis para a lista:\", metodos_da_lista)"
      ],
      "metadata": {
        "colab": {
          "base_uri": "https://localhost:8080/"
        },
        "id": "2b456qCZ_sTU",
        "outputId": "e376491a-b2b2-4281-e8e8-26348e541cdd"
      },
      "execution_count": 14,
      "outputs": [
        {
          "output_type": "stream",
          "name": "stdout",
          "text": [
            "Tamanho da lista: 5\n",
            "Tipo de dado da lista: <class 'list'>\n",
            "Métodos disponíveis para a lista: ['__add__', '__class__', '__class_getitem__', '__contains__', '__delattr__', '__delitem__', '__dir__', '__doc__', '__eq__', '__format__', '__ge__', '__getattribute__', '__getitem__', '__gt__', '__hash__', '__iadd__', '__imul__', '__init__', '__init_subclass__', '__iter__', '__le__', '__len__', '__lt__', '__mul__', '__ne__', '__new__', '__reduce__', '__reduce_ex__', '__repr__', '__reversed__', '__rmul__', '__setattr__', '__setitem__', '__sizeof__', '__str__', '__subclasshook__', 'append', 'clear', 'copy', 'count', 'extend', 'index', 'insert', 'pop', 'remove', 'reverse', 'sort']\n"
          ]
        }
      ]
    }
  ]
}