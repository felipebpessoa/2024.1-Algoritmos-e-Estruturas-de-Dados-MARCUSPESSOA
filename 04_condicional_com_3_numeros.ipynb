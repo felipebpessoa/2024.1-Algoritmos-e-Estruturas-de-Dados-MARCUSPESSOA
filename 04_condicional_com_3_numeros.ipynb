{
  "nbformat": 4,
  "nbformat_minor": 0,
  "metadata": {
    "colab": {
      "provenance": [],
      "authorship_tag": "ABX9TyMciPUSLzrK7z6wGDaG+RcS",
      "include_colab_link": true
    },
    "kernelspec": {
      "name": "python3",
      "display_name": "Python 3"
    },
    "language_info": {
      "name": "python"
    }
  },
  "cells": [
    {
      "cell_type": "markdown",
      "metadata": {
        "id": "view-in-github",
        "colab_type": "text"
      },
      "source": [
        "<a href=\"https://colab.research.google.com/github/felipebpessoa/2024.1-Algoritmos-e-Estruturas-de-Dados-MARCUSPESSOA/blob/main/04_condicional_com_3_numeros.ipynb\" target=\"_parent\"><img src=\"https://colab.research.google.com/assets/colab-badge.svg\" alt=\"Open In Colab\"/></a>"
      ]
    },
    {
      "cell_type": "code",
      "execution_count": 1,
      "metadata": {
        "colab": {
          "base_uri": "https://localhost:8080/"
        },
        "id": "mF9lUI_qfDT7",
        "outputId": "527c5dae-2850-4a7f-be23-4e19d1eb22f7"
      },
      "outputs": [
        {
          "output_type": "stream",
          "name": "stdout",
          "text": [
            "30\n"
          ]
        }
      ],
      "source": [
        "#Crie um código que, a partir de 3 variáveis\n",
        "#'a','b' e 'c' númericas imprimar a maior delas\n",
        "a=10\n",
        "b=20\n",
        "c=30\n",
        "\n",
        "if a < b:\n",
        "  if b < c:\n",
        "    print(c)\n",
        "  else:\n",
        "    print(b)\n",
        "else:\n",
        "  if a < c:\n",
        "    print(c)\n",
        "  else:\n",
        "    print(a)"
      ]
    },
    {
      "cell_type": "code",
      "source": [
        "#Simplificando com funções do python\n",
        "a=10\n",
        "b=20\n",
        "c=30\n",
        "d=40\n",
        "e=50\n",
        "\n",
        "print(max(a,b,c,d,e))"
      ],
      "metadata": {
        "colab": {
          "base_uri": "https://localhost:8080/"
        },
        "id": "EdgezG0QfMsT",
        "outputId": "bea96d65-1fe0-4511-803c-25d6ba378d71"
      },
      "execution_count": 2,
      "outputs": [
        {
          "output_type": "stream",
          "name": "stdout",
          "text": [
            "50\n"
          ]
        }
      ]
    }
  ]
}