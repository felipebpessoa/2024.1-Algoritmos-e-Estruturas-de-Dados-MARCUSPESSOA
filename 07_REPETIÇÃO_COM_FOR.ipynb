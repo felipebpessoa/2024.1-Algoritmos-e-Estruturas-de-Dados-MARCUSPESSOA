{
  "nbformat": 4,
  "nbformat_minor": 0,
  "metadata": {
    "colab": {
      "provenance": [],
      "authorship_tag": "ABX9TyPgoSYmKox9Vb2lnsfx3XEP",
      "include_colab_link": true
    },
    "kernelspec": {
      "name": "python3",
      "display_name": "Python 3"
    },
    "language_info": {
      "name": "python"
    }
  },
  "cells": [
    {
      "cell_type": "markdown",
      "metadata": {
        "id": "view-in-github",
        "colab_type": "text"
      },
      "source": [
        "<a href=\"https://colab.research.google.com/github/felipebpessoa/2024.1-Algoritmos-e-Estruturas-de-Dados-MARCUSPESSOA/blob/main/07_REPETI%C3%87%C3%83O_COM_FOR.ipynb\" target=\"_parent\"><img src=\"https://colab.research.google.com/assets/colab-badge.svg\" alt=\"Open In Colab\"/></a>"
      ]
    },
    {
      "cell_type": "code",
      "execution_count": 3,
      "metadata": {
        "colab": {
          "base_uri": "https://localhost:8080/"
        },
        "id": "1I09UHY0eWoY",
        "outputId": "225a1845-202f-4ed4-d3c9-4edd3971b3db"
      },
      "outputs": [
        {
          "output_type": "stream",
          "name": "stdout",
          "text": [
            "1: Spam\n",
            "2: Eggs\n",
            "3: Bacon\n"
          ]
        }
      ],
      "source": [
        "contador = 0\n",
        "for x in ['Spam', 'Eggs', 'Bacon']:\n",
        "  contador += 1\n",
        "  print(f\"{contador}: {x}\")"
      ]
    },
    {
      "cell_type": "code",
      "source": [
        "T = [(1,2), (3,4), (5,6)]\n",
        "for(a,b) in T:\n",
        "  print(a,\" e \",b)"
      ],
      "metadata": {
        "colab": {
          "base_uri": "https://localhost:8080/"
        },
        "id": "uEr93Tz_j27p",
        "outputId": "52eb96d0-cc8d-43a3-e127-661a6c92b978"
      },
      "execution_count": 4,
      "outputs": [
        {
          "output_type": "stream",
          "name": "stdout",
          "text": [
            "1  e  2\n",
            "3  e  4\n",
            "5  e  6\n"
          ]
        }
      ]
    },
    {
      "cell_type": "markdown",
      "source": [
        "Só tem em Python"
      ],
      "metadata": {
        "id": "exvA-SIimGoU"
      }
    },
    {
      "cell_type": "code",
      "source": [
        "#Dicionário em python\n",
        "D = {'a': 1,  'b': 2,  'c':3}\n",
        "for chave in D:\n",
        "  print(chave,\"=>\",D[chave])"
      ],
      "metadata": {
        "colab": {
          "base_uri": "https://localhost:8080/"
        },
        "id": "WInMrfOrkhK5",
        "outputId": "aaeace6d-e9e7-4507-a3a5-acbc4d818c24"
      },
      "execution_count": 7,
      "outputs": [
        {
          "output_type": "stream",
          "name": "stdout",
          "text": [
            "a => 1\n",
            "b => 2\n",
            "c => 3\n"
          ]
        }
      ]
    },
    {
      "cell_type": "code",
      "source": [
        "list(range(10))"
      ],
      "metadata": {
        "colab": {
          "base_uri": "https://localhost:8080/"
        },
        "id": "gexAHv_omMhD",
        "outputId": "fcb2640e-9f7d-48de-ee57-d7855b51bf5e"
      },
      "execution_count": 9,
      "outputs": [
        {
          "output_type": "execute_result",
          "data": {
            "text/plain": [
              "[0, 1, 2, 3, 4, 5, 6, 7, 8, 9]"
            ]
          },
          "metadata": {},
          "execution_count": 9
        }
      ]
    },
    {
      "cell_type": "code",
      "source": [
        "for i in range(5):\n",
        "  print(i,\"pythins\")"
      ],
      "metadata": {
        "colab": {
          "base_uri": "https://localhost:8080/"
        },
        "id": "BhPqgVF-nHyQ",
        "outputId": "3d430fa1-a95f-44ad-ca77-da8500bfbe7c"
      },
      "execution_count": 11,
      "outputs": [
        {
          "output_type": "stream",
          "name": "stdout",
          "text": [
            "0 pythins\n",
            "1 pythins\n",
            "2 pythins\n",
            "3 pythins\n",
            "4 pythins\n"
          ]
        }
      ]
    },
    {
      "cell_type": "code",
      "source": [
        "s = 'Marcus'\n",
        "print(\"Tamanho da palavra:\", len(s))\n",
        "for i in range(len(s)):\n",
        "  print(i,s[i], sep='-',end=' ')"
      ],
      "metadata": {
        "colab": {
          "base_uri": "https://localhost:8080/"
        },
        "id": "7mJpWVE6nmin",
        "outputId": "79adc6c0-a702-489d-b670-762910e4a56e"
      },
      "execution_count": 16,
      "outputs": [
        {
          "output_type": "stream",
          "name": "stdout",
          "text": [
            "Tamanho da palavra: 11\n",
            "0-S 1-e 2-u 3-  4-C 5-u 6-z 7-i 8-n 9-h 10-o "
          ]
        }
      ]
    },
    {
      "cell_type": "markdown",
      "source": [
        "Uso do Zip"
      ],
      "metadata": {
        "id": "YvlIkUxhqysb"
      }
    },
    {
      "cell_type": "code",
      "source": [
        "L1 = ['a', 'b', 'c', 'd']\n",
        "L2 = [1,2,3]\n",
        "print(list(L1))\n",
        "print(list(L2))\n",
        "compactado = zip(L1,L2)\n",
        "print(list(compactado))\n",
        "for (x,y) in list(zip(L1,L2)):\n",
        "  print(x, \"-\",y)"
      ],
      "metadata": {
        "colab": {
          "base_uri": "https://localhost:8080/"
        },
        "id": "yyL_a84OqpaU",
        "outputId": "2da5e64d-940f-46d0-e848-fb9ac6044937"
      },
      "execution_count": 21,
      "outputs": [
        {
          "output_type": "stream",
          "name": "stdout",
          "text": [
            "['a', 'b', 'c', 'd']\n",
            "[1, 2, 3]\n",
            "[('a', 1), ('b', 2), ('c', 3)]\n",
            "a - 1\n",
            "b - 2\n",
            "c - 3\n"
          ]
        }
      ]
    },
    {
      "cell_type": "code",
      "source": [
        "#zip crie um dicionário a partir de listas\n",
        "chaves = ['a', 'b', 'c', 'd']\n",
        "valores = [1,2,3,4]\n",
        "D1 = dict(zip(chaves, valores))\n",
        "print(D1)"
      ],
      "metadata": {
        "colab": {
          "base_uri": "https://localhost:8080/"
        },
        "id": "3rJaDm2ct70-",
        "outputId": "0f8ee8cf-ddcf-45e0-8928-8766735a5abc"
      },
      "execution_count": 22,
      "outputs": [
        {
          "output_type": "stream",
          "name": "stdout",
          "text": [
            "{'a': 1, 'b': 2, 'c': 3, 'd': 4}\n"
          ]
        }
      ]
    },
    {
      "cell_type": "markdown",
      "source": [
        "Enumerate"
      ],
      "metadata": {
        "id": "1S7n0IdPuoLQ"
      }
    },
    {
      "cell_type": "code",
      "source": [
        "s='Marcus'\n",
        "print(enumerate(s))\n",
        "print(list(enumerate(s)))\n",
        "for (offset,valor) in enumerate(s):\n",
        "  print(offset,valor)"
      ],
      "metadata": {
        "colab": {
          "base_uri": "https://localhost:8080/"
        },
        "id": "wnHCZVs_up7X",
        "outputId": "da62dbc3-9013-4750-8767-64e514e8a3a3"
      },
      "execution_count": 24,
      "outputs": [
        {
          "output_type": "stream",
          "name": "stdout",
          "text": [
            "<enumerate object at 0x7b9a115f2500>\n",
            "[(0, 'M'), (1, 'a'), (2, 'r'), (3, 'c'), (4, 'u'), (5, 's')]\n",
            "0 M\n",
            "1 a\n",
            "2 r\n",
            "3 c\n",
            "4 u\n",
            "5 s\n"
          ]
        }
      ]
    }
  ]
}