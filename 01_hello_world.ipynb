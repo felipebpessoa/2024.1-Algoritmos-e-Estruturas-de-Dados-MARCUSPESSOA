{
  "nbformat": 4,
  "nbformat_minor": 0,
  "metadata": {
    "colab": {
      "provenance": [],
      "authorship_tag": "ABX9TyMOwnVbp068jrXnklPI25XP",
      "include_colab_link": true
    },
    "kernelspec": {
      "name": "python3",
      "display_name": "Python 3"
    },
    "language_info": {
      "name": "python"
    }
  },
  "cells": [
    {
      "cell_type": "markdown",
      "metadata": {
        "id": "view-in-github",
        "colab_type": "text"
      },
      "source": [
        "<a href=\"https://colab.research.google.com/github/felipebpessoa/2024.1-Algoritmos-e-Estruturas-de-Dados-MARCUSPESSOA/blob/main/01_hello_world.ipynb\" target=\"_parent\"><img src=\"https://colab.research.google.com/assets/colab-badge.svg\" alt=\"Open In Colab\"/></a>"
      ]
    },
    {
      "cell_type": "markdown",
      "source": [
        "Meu Pirmeiro Programa"
      ],
      "metadata": {
        "id": "EiNZ4C9KeI4Q"
      }
    },
    {
      "cell_type": "code",
      "execution_count": 4,
      "metadata": {
        "colab": {
          "base_uri": "https://localhost:8080/"
        },
        "id": "6BK1MwXqccQp",
        "outputId": "be1f9d9a-ec61-4264-897f-4f93851bbaa7"
      },
      "outputs": [
        {
          "output_type": "stream",
          "name": "stdout",
          "text": [
            "hello World\n"
          ]
        }
      ],
      "source": [
        "#IMPRIME \"HELLO, World\" na tela\n",
        "print (\"hello World\")\n"
      ]
    },
    {
      "cell_type": "code",
      "source": [
        "#Variáveis em Python\n",
        "message = \"Hello, World!\"\n",
        "#imprimir o conteúdo da variável message\n",
        "print (message)"
      ],
      "metadata": {
        "colab": {
          "base_uri": "https://localhost:8080/"
        },
        "id": "78pnMCaMoqmr",
        "outputId": "a01e1875-ae71-49ea-f99d-b85f39389e8f"
      },
      "execution_count": 7,
      "outputs": [
        {
          "output_type": "stream",
          "name": "stdout",
          "text": [
            "Hello, World!\n"
          ]
        }
      ]
    }
  ]
}