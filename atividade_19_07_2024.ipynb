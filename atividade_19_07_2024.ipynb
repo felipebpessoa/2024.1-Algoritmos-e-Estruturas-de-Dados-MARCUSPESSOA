{
  "nbformat": 4,
  "nbformat_minor": 0,
  "metadata": {
    "colab": {
      "provenance": [],
      "authorship_tag": "ABX9TyMjW7Zivn1jncT6kByTyklO",
      "include_colab_link": true
    },
    "kernelspec": {
      "name": "python3",
      "display_name": "Python 3"
    },
    "language_info": {
      "name": "python"
    }
  },
  "cells": [
    {
      "cell_type": "markdown",
      "metadata": {
        "id": "view-in-github",
        "colab_type": "text"
      },
      "source": [
        "<a href=\"https://colab.research.google.com/github/felipebpessoa/2024.1-Algoritmos-e-Estruturas-de-Dados-MARCUSPESSOA/blob/main/atividade_19_07_2024.ipynb\" target=\"_parent\"><img src=\"https://colab.research.google.com/assets/colab-badge.svg\" alt=\"Open In Colab\"/></a>"
      ]
    },
    {
      "cell_type": "markdown",
      "source": [
        "Crie um programa que leia um número inteiro. Quando este for negativo, some-o com 100; quando positivo, apenas faça sua impressão."
      ],
      "metadata": {
        "id": "PhVYG_u0jPGW"
      }
    },
    {
      "cell_type": "code",
      "execution_count": 6,
      "metadata": {
        "colab": {
          "base_uri": "https://localhost:8080/"
        },
        "id": "669eD1Kzib_N",
        "outputId": "7dc1e268-3063-4bb0-b4b2-674dcd08477e"
      },
      "outputs": [
        {
          "output_type": "stream",
          "name": "stdout",
          "text": [
            "Digite um número inteiro:-55\n",
            "A soma do número -55 com 100 dá:45\n"
          ]
        }
      ],
      "source": [
        "num = int(input(\"Digite um número inteiro:\"))\n",
        "\n",
        "if num >= 0:\n",
        "  print(\"O número digitado é:\", num)\n",
        "else:\n",
        "  print(\"A soma do número {} com 100 dá:{}\".format(num, (num + 100)))"
      ]
    },
    {
      "cell_type": "markdown",
      "source": [
        "Crie um programa que leia o código de um curso do IFRN, Campus Natal Central, e indique o nome do curso de acordo com a tabela abaixo. Se o programa ler um código inexistente no Instituto, uma mensagem de alerta deve ser informada ao usuário."
      ],
      "metadata": {
        "id": "o_tnBsk0jozm"
      }
    },
    {
      "cell_type": "code",
      "source": [
        "cod_cur = {\"1\": \"Técnico em Informática Subseqüente\", \"2\": \"Técnico em Informática EJA\", \"3\": \"Técnico em Cooperativismo\", \"4\": \"Técnico em Cooperativismo EJA\",\n",
        "\"5\": \"Licenciatura em Física\"}\n",
        "\n",
        "cod = input(\"Digite o código do curso:\")\n",
        "\n",
        "if cod in cod_cur:\n",
        "  print(\"O curso do  IFRN (Campus Natal Central) com código {} é {}.\".format(cod, cod_cur[cod]))\n",
        "else:\n",
        "  print(\"Aviso: código inexistente, tente novamente!\")\n",
        ""
      ],
      "metadata": {
        "colab": {
          "base_uri": "https://localhost:8080/"
        },
        "id": "DdqRUmz6jq_V",
        "outputId": "92180db2-a04a-43cb-eff3-f7176af758b3"
      },
      "execution_count": 7,
      "outputs": [
        {
          "output_type": "stream",
          "name": "stdout",
          "text": [
            "Digite o código do curso:3\n",
            "O curso do  IFRN (Campus Natal Central) com código 3 é Técnico em Cooperativismo.\n"
          ]
        }
      ]
    },
    {
      "cell_type": "markdown",
      "source": [
        "Leia duas strings e informe o conteúdo delas seguido do seu comprimento. 3a. Crie uma variável res1 que informa se as duas strings possuem o mesmo comprimento. 3b. Crie uma variável res2 que informa se as duasstrings são iguais ou diferentes no conteúdo."
      ],
      "metadata": {
        "id": "rV1RH2YDjxgW"
      }
    },
    {
      "cell_type": "code",
      "source": [
        "str1 = str(input(\"Digite uma frase:\"))\n",
        "print(\"o tamanho da primeira string: '{}' é {}\".format(str1, len(str1)))\n",
        "str2 = str(input(\"Digite uma segunda frase:\"))\n",
        "print(\"O tamanho da segunda string: '{}' é: {}\".format(str2, len(str2)))\n",
        "\n",
        "#3a\n",
        "\n",
        "if len(str1) == len(str2):\n",
        "  print(\"As duas strings tem o mesmo tamanho\")\n",
        "else:\n",
        "  print(\"As duas strings {} e {} tem tamanhos diferentes\".format(str1, str2))\n",
        "\n",
        "#3b\n",
        "\n",
        "res1 = str1 == str2\n",
        "\n",
        "if res1:\n",
        "  print(\"As duas strings '{}' e '{}', são iguais\".format(str1, str2))\n",
        "else:\n",
        "  print(\"As duas strings '{}' e '{}' são diferentes\".format(str1, str2))"
      ],
      "metadata": {
        "colab": {
          "base_uri": "https://localhost:8080/"
        },
        "id": "nsqfUNy4jzrX",
        "outputId": "4f082f12-859d-4164-8469-3cf19132cb60"
      },
      "execution_count": 9,
      "outputs": [
        {
          "output_type": "stream",
          "name": "stdout",
          "text": [
            "Digite uma frase:Meio Ambiente\n",
            "o tamanho da primeira string: 'Meio Ambiente' é 13\n",
            "Digite uma segunda frase:Saneamento Ambiental\n",
            "O tamanho da segunda string: 'Saneamento Ambiental' é: 20\n",
            "As duas strings Meio Ambiente e Saneamento Ambiental tem tamanhos diferentes\n",
            "As duas strings 'Meio Ambiente' e 'Saneamento Ambiental' são diferentes\n"
          ]
        }
      ]
    },
    {
      "cell_type": "markdown",
      "source": [
        "Faça um programa que ler uma string e corta os dois primeiros caracteres e os dois últimos\n"
      ],
      "metadata": {
        "id": "F6ElRENkkCKh"
      }
    },
    {
      "cell_type": "code",
      "source": [
        "str1 = input(\"Digite uma frase:\")\n",
        "cont = len(str1)\n",
        "print(\"Subtraindo as duas primeiras e as duas últimas letras a string '{}'({}), fica '{}'\".format(str1 ,cont, str1 [2 : -2]))"
      ],
      "metadata": {
        "colab": {
          "base_uri": "https://localhost:8080/"
        },
        "id": "VIW3koO1kE8K",
        "outputId": "fefc9141-cc7b-4d56-d937-f057aaa6c987"
      },
      "execution_count": 10,
      "outputs": [
        {
          "output_type": "stream",
          "name": "stdout",
          "text": [
            "Digite uma frase:Meio Ambiente é o melhor curso de todos os tempos\n",
            "Subtraindo as duas primeiras e as duas últimas letras a string 'Meio Ambiente é o melhor curso de todos os tempos'(49), fica 'io Ambiente é o melhor curso de todos os temp'\n"
          ]
        }
      ]
    }
  ]
}