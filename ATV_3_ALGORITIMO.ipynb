{
  "nbformat": 4,
  "nbformat_minor": 0,
  "metadata": {
    "colab": {
      "provenance": [],
      "authorship_tag": "ABX9TyMnpEHohyJVeB9GAlS/jP6P",
      "include_colab_link": true
    },
    "kernelspec": {
      "name": "python3",
      "display_name": "Python 3"
    },
    "language_info": {
      "name": "python"
    }
  },
  "cells": [
    {
      "cell_type": "markdown",
      "metadata": {
        "id": "view-in-github",
        "colab_type": "text"
      },
      "source": [
        "<a href=\"https://colab.research.google.com/github/felipebpessoa/2024.1-Algoritmos-e-Estruturas-de-Dados-MARCUSPESSOA/blob/main/ATV_3_ALGORITIMO.ipynb\" target=\"_parent\"><img src=\"https://colab.research.google.com/assets/colab-badge.svg\" alt=\"Open In Colab\"/></a>"
      ]
    },
    {
      "cell_type": "markdown",
      "source": [
        "1- Calculadora de IMC (Índice de Massa Corporal):"
      ],
      "metadata": {
        "id": "si5aIzAuIak_"
      }
    },
    {
      "cell_type": "code",
      "execution_count": 2,
      "metadata": {
        "colab": {
          "base_uri": "https://localhost:8080/"
        },
        "id": "meUc_uGgIQ--",
        "outputId": "fd68a726-ceb8-4164-a2e5-45ddacc78dd9"
      },
      "outputs": [
        {
          "output_type": "stream",
          "name": "stdout",
          "text": [
            "Digite seu peso: 90\n",
            "Digite sua altura: 1.75\n",
            "Seu imc é: 29.387755102040817\n",
            "classificação: Sobrepeso\n"
          ]
        }
      ],
      "source": [
        "#calculcadora de IMC\n",
        "\n",
        "peso = float(input(\"Digite seu peso: \"))\n",
        "altura = float(input(\"Digite sua altura: \"))\n",
        "\n",
        "imc = peso/(altura * altura)\n",
        "\n",
        "if imc < 18.5: classificacao = \"Abaixo do Peso\"\n",
        "elif imc < 25: classificacao = \"Peso Normal\"\n",
        "elif imc < 30: classificacao = \"Sobrepeso\"\n",
        "else: classificacao = \"Obesidade\"\n",
        "\n",
        "print(\"Seu imc é:\", imc)\n",
        "print(\"classificação:\", classificacao)"
      ]
    },
    {
      "cell_type": "markdown",
      "source": [
        "2- Verificador de Número Par ou Ímpar:"
      ],
      "metadata": {
        "id": "rZUoyi0HIrNi"
      }
    },
    {
      "cell_type": "code",
      "source": [
        "#Verificador de número par ou ímpar\n",
        "\n",
        "num = int(input(\"Digite um número: \"))\n",
        "\n",
        "if num % 2 == 0:\n",
        "  print(\"O número é par\")\n",
        "else:\n",
        "  print(\"O número é ímpar\")"
      ],
      "metadata": {
        "colab": {
          "base_uri": "https://localhost:8080/"
        },
        "id": "gbPnoyKzIwgW",
        "outputId": "b4a12210-f58d-42d8-b9db-92c221e2c4ec"
      },
      "execution_count": 3,
      "outputs": [
        {
          "output_type": "stream",
          "name": "stdout",
          "text": [
            "Digite um número: 7\n",
            "O número é ímpar\n"
          ]
        }
      ]
    },
    {
      "cell_type": "markdown",
      "source": [
        "3- Conversor de Temperatura:"
      ],
      "metadata": {
        "id": "8wG6dYojI2bv"
      }
    },
    {
      "cell_type": "code",
      "source": [
        "#Conversor de Temperatura\n",
        "\n",
        "c = float(input(\"Digite o valor em celsius: \"))\n",
        "\n",
        "f = c * 9/5 + 32\n",
        "\n",
        "print(\"O valor em Fahrenheit: \", f)"
      ],
      "metadata": {
        "colab": {
          "base_uri": "https://localhost:8080/"
        },
        "id": "DwnWOf5gI6ns",
        "outputId": "bc8a68c2-3619-4e32-b438-85d1494c2eb7"
      },
      "execution_count": 4,
      "outputs": [
        {
          "output_type": "stream",
          "name": "stdout",
          "text": [
            "Digite o valor em celsius: 40\n",
            "O valor em Fahrenheit:  104.0\n"
          ]
        }
      ]
    },
    {
      "cell_type": "markdown",
      "source": [
        "4- Tabuada de Multiplicação:"
      ],
      "metadata": {
        "id": "ujqpl8MPJBJq"
      }
    },
    {
      "cell_type": "code",
      "source": [
        "#Tabuada de Multiplicação\n",
        "\n",
        "num = int(input(\"Digite um número: \"))\n",
        "\n",
        "for r in range(1, 11):\n",
        "  resultado = num * r\n",
        "  print(f\"{num} x {r} = {resultado}\")"
      ],
      "metadata": {
        "colab": {
          "base_uri": "https://localhost:8080/"
        },
        "id": "KReTEy_XJFMb",
        "outputId": "67efeefc-423f-43f0-e0d3-6b1c0a48c023"
      },
      "execution_count": 8,
      "outputs": [
        {
          "output_type": "stream",
          "name": "stdout",
          "text": [
            "Digite um número: 4\n",
            "4 x 1 = 4\n",
            "4 x 2 = 8\n",
            "4 x 3 = 12\n",
            "4 x 4 = 16\n",
            "4 x 5 = 20\n",
            "4 x 6 = 24\n",
            "4 x 7 = 28\n",
            "4 x 8 = 32\n",
            "4 x 9 = 36\n",
            "4 x 10 = 40\n"
          ]
        }
      ]
    },
    {
      "cell_type": "markdown",
      "source": [
        "5- Cálculo de Média Ponderada:"
      ],
      "metadata": {
        "id": "Q8Ld0lNrJLTh"
      }
    },
    {
      "cell_type": "code",
      "source": [
        "#Cálculo de Média Ponderada\n",
        "\n",
        "n1 = float(input(\"Digite nota 1:\"))\n",
        "peso1 = float(input(\"Digite peso da nota 1:\"))\n",
        "\n",
        "n2 = float(input(\"Digite nota 2:\"))\n",
        "peso2 = float(input(\"Digite peso da nota 2:\"))\n",
        "\n",
        "n3 = float(input(\"Digite nota 3:\"))\n",
        "peso3 = float(input(\"Digite peso da nota 3:\"))\n",
        "\n",
        "media_ponderada = (n1 * peso1 + n2 * peso2 + n3 * peso3) / (peso1 + peso2 + peso3)\n",
        "\n",
        "print(\"A média ponderada é:\", media_ponderada)"
      ],
      "metadata": {
        "colab": {
          "base_uri": "https://localhost:8080/"
        },
        "id": "iBUkTNaKJQim",
        "outputId": "b6f101fe-37a2-4109-b129-08d715471346"
      },
      "execution_count": 6,
      "outputs": [
        {
          "output_type": "stream",
          "name": "stdout",
          "text": [
            "Digite nota 1:30\n",
            "Digite peso da nota 1:2\n",
            "Digite nota 2:90\n",
            "Digite peso da nota 2:3\n",
            "Digite nota 3:75\n",
            "Digite peso da nota 3:5\n",
            "A média ponderada é: 70.5\n"
          ]
        }
      ]
    },
    {
      "cell_type": "markdown",
      "source": [
        "6- Verificador de Ano Bissexto:"
      ],
      "metadata": {
        "id": "Rsx340vpJfwi"
      }
    },
    {
      "cell_type": "code",
      "source": [
        "#Verificador de ano bissexto\n",
        "\n",
        "ano = int(input(\"Digite um ano: \"))\n",
        "\n",
        "if ano % 4 == 0:\n",
        "  if ano % 100 == 0:\n",
        "    if ano % 400 == 0:\n",
        "      print(ano, \"É um ano bissexto\")\n",
        "    else:\n",
        "      print(ano, \"Não é um ano bissexto\")\n",
        "  else:\n",
        "      print(ano, \"É um ano bissexto\")\n",
        "else:\n",
        "      print(ano, \"Não é um ano bissexto\")"
      ],
      "metadata": {
        "colab": {
          "base_uri": "https://localhost:8080/"
        },
        "id": "n9dSoYctJmJK",
        "outputId": "b543cc7a-51c8-4a07-e4d1-b04d65020619"
      },
      "execution_count": 9,
      "outputs": [
        {
          "output_type": "stream",
          "name": "stdout",
          "text": [
            "Digite um ano: 3054\n",
            "3054 Não é um ano bissexto\n"
          ]
        }
      ]
    },
    {
      "cell_type": "markdown",
      "source": [
        "7- Contador de Vogais em uma String:"
      ],
      "metadata": {
        "id": "zai6DyqBJvDY"
      }
    },
    {
      "cell_type": "code",
      "source": [
        "#Contador de Vogais em uma String\n",
        "\n",
        "string = input(\"Digite uma String: \")\n",
        "vogais = [\"a\", \"e\", \"i\", \"o\", \"u\"]\n",
        "contagem = 0\n",
        "\n",
        "for caractere in string:\n",
        "  if caractere.lower() in vogais:\n",
        "    contagem +=1\n",
        "\n",
        "print(\"O número e vogais na String é: \", contagem)"
      ],
      "metadata": {
        "colab": {
          "base_uri": "https://localhost:8080/"
        },
        "id": "6Kx_vt7zJzkL",
        "outputId": "e4e5c3bc-a10c-4cb1-f165-a95df2499f39"
      },
      "execution_count": 10,
      "outputs": [
        {
          "output_type": "stream",
          "name": "stdout",
          "text": [
            "Digite uma String: peso não, tonelada\n",
            "O número e vogais na String é:  7\n"
          ]
        }
      ]
    },
    {
      "cell_type": "markdown",
      "source": [
        "8- Calculadora de Fatorial:"
      ],
      "metadata": {
        "id": "Vgcom9URJ8zT"
      }
    },
    {
      "cell_type": "code",
      "source": [
        "#Calculadora de Fatorial\n",
        "\n",
        "num = int (input(\"Digite um número: \"))\n",
        "\n",
        "if num < 0:\n",
        "  print(\"O número deve ser positivo\")\n",
        "else:\n",
        "  resultado = 1\n",
        "  for r in range(1, num + 1):\n",
        "    resultado *= r\n",
        "  print(\"O fatorial de\", num, \"É\", resultado)"
      ],
      "metadata": {
        "colab": {
          "base_uri": "https://localhost:8080/"
        },
        "id": "pBx-t9ydKBRH",
        "outputId": "37251014-2f25-4427-c285-68181cf25153"
      },
      "execution_count": 12,
      "outputs": [
        {
          "output_type": "stream",
          "name": "stdout",
          "text": [
            "Digite um número: 25\n",
            "O fatorial de 25 É 15511210043330985984000000\n"
          ]
        }
      ]
    },
    {
      "cell_type": "markdown",
      "source": [
        "9- Soma dos Números Pares em um Intervalo:"
      ],
      "metadata": {
        "id": "lytBR1exKKGW"
      }
    },
    {
      "cell_type": "code",
      "source": [
        "#Soma dos Números Pares em um Intervalo\n",
        "\n",
        "inicio = int(input(\"Digite o número do inicial do intervalo: \"))\n",
        "fim = int(input(\"Digite o número final do intervalo: \"))\n",
        "print(\"LEMBRE-SE VOCÊ DEFINIU O INTERVALO\")\n",
        "\n",
        "soma_dos_pares = 0\n",
        "for num in range(inicio, fim + 1 ):\n",
        "  if num % 2 == 0:\n",
        "    soma_dos_pares += num\n",
        "print(\"A soma de todos os números pares dentro do intervalo é:\", soma_dos_pares)"
      ],
      "metadata": {
        "colab": {
          "base_uri": "https://localhost:8080/"
        },
        "id": "1Opsk0n6KOY-",
        "outputId": "55164778-9404-4052-b462-38ad44996690"
      },
      "execution_count": 13,
      "outputs": [
        {
          "output_type": "stream",
          "name": "stdout",
          "text": [
            "Digite o número do inicial do intervalo: 4\n",
            "Digite o número final do intervalo: 86\n",
            "LEMBRE-SE VOCÊ DEFINIU O INTERVALO\n",
            "A soma de todos os números pares dentro do intervalo é: 1890\n"
          ]
        }
      ]
    },
    {
      "cell_type": "markdown",
      "source": [
        "10- Verificador de Número Primo:"
      ],
      "metadata": {
        "id": "4CXi9cV9KbjP"
      }
    },
    {
      "cell_type": "code",
      "source": [
        "#Verificador de Número Primo\n",
        "\n",
        "import math\n",
        "\n",
        "num = int(input(\"Digite um número positivo: \"))\n",
        "\n",
        "if num <= 1:\n",
        "  print(\"O número não é primo: \")\n",
        "else:\n",
        "  e_primo = True\n",
        "  for r in range(2, int(math.sqrt(num))+ 1):\n",
        "    if num % r == 0:\n",
        "      e_primo = False\n",
        "      break\n",
        "  if e_primo:\n",
        "    print(\"O número é primo\")\n",
        "  else:\n",
        "    print(\"O número não é primo\")"
      ],
      "metadata": {
        "colab": {
          "base_uri": "https://localhost:8080/"
        },
        "id": "XKFPwblMKfkb",
        "outputId": "2d5aea73-2e15-4b02-ffa5-6c56b5c1172b"
      },
      "execution_count": 14,
      "outputs": [
        {
          "output_type": "stream",
          "name": "stdout",
          "text": [
            "Digite um número positivo: 8740\n",
            "O número não é primo\n"
          ]
        }
      ]
    }
  ]
}